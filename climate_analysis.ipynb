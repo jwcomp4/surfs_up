{
 "cells": [
  {
   "cell_type": "code",
   "execution_count": 1,
   "metadata": {},
   "outputs": [],
   "source": [
    "%matplotlib inline\n",
    "from matplotlib import style\n",
    "style.use('fivethirtyeight')\n",
    "import matplotlib.pyplot as plt"
   ]
  },
  {
   "cell_type": "code",
   "execution_count": 2,
   "metadata": {},
   "outputs": [],
   "source": [
    "import numpy as np\n",
    "import pandas as pd"
   ]
  },
  {
   "cell_type": "code",
   "execution_count": 3,
   "metadata": {},
   "outputs": [],
   "source": [
    "import datetime as dt"
   ]
  },
  {
   "cell_type": "markdown",
   "metadata": {},
   "source": [
    "# Reflect Tables into SQLAlchemy ORM"
   ]
  },
  {
   "cell_type": "code",
   "execution_count": 4,
   "metadata": {},
   "outputs": [],
   "source": [
    "# Python SQL toolkit and Object Relational Mapper\n",
    "import sqlalchemy\n",
    "from sqlalchemy.ext.automap import automap_base\n",
    "from sqlalchemy.orm import Session\n",
    "from sqlalchemy import create_engine, func"
   ]
  },
  {
   "cell_type": "markdown",
   "metadata": {},
   "source": [
    "# Getting starting with SQLite\n",
    "\n",
    "- provides a quick way to setup a database engine without requiring a server.\n",
    "    - essentially a flat file (no relationships) with most of the major cababilities of an SQL database\n",
    "- still able to write queries for the database\n",
    "\n",
    "## SQLite Advantages \n",
    "\n",
    "1. **It's Local**: allows you to create databases on your local machine to support testing and early prototyping\n",
    "    - this is much easier/faster than setting up a SQL database when testing\n",
    "    \n",
    "2. **Mobile App Use**: they can be used on a mobile phone app\n",
    "    - most mobile phone games use SQLite database to store info like player stats.\n",
    "    \n",
    "## SQLite Disadvantages\n",
    "\n",
    "1. **It's Local**: MYSQL database allows you to have multiple users. Because SQLite is local, it just lives on your computer - no users. Only that phone or computer can have access to it. \n",
    "\n",
    "2. **Security**: Doesn't have many security features like a traditional SQL database.\n",
    "\n",
    "# SQLAlchemy\n",
    "\n",
    "- Python library that helps make queries and communicate between the code and the database.\n",
    "\n",
    "## SQLAlchemy ORM\n",
    "\n",
    "- Primary feature of SQLAlchemy is the **Object Relational Mapper**\n",
    "    - allows you to create classes in your code that can be mapped to specific tables in a given database. \n",
    "    - allows you to create a **decoupled system**\n",
    "        - essentially a decoupled system is the opposite of a **tightly coupled system** where everything is related to each other resulting in the possibilty that if one relationship breaks, the whole system breaks.\n",
    "        - allows you to use or access just one facet at a time. \n",
    "- One key aspect here is that the references will be to *classes* rather than specific tables in a database\n",
    "    - can influence each class independently.\n",
    "    \n",
    "## SQLAlchemy Create Engine\n",
    "\n",
    "- The `create engine` function allows you to query a SQLite Database\n",
    "\n",
    "- Use the `create_engine()` function \n",
    "    - this prepares the dateabase file to be connected later one.\n",
    "    - typically has one parameter = location of the SQLite database file\n",
    "    \n",
    "## SQLAlchemy Automap Base\n",
    "\n",
    "- using the `automap_base()` function to reflect the database into a model\n",
    "    - this means transfering the contents of the database into a different structure of data\n",
    "    - creates a base clase for an automap schema in SQLAlchemy - creates the foundation\n",
    "    \n",
    "- Everything so far is to set up the environment for SQLAlchemy\n",
    "    \n",
    "## SQLAlchemy Reflect Tables\n",
    "\n",
    "- Using the `prepare()` function, you reflect the schema of SQLite tables into our code and create mappings.\n",
    "\n",
    "- When you reflect talbes, you create classes that help keep our code separate (decoupled)\n",
    "    - This is important because by keeping code decoupled ensures that if other classes or systems want to interact, they interact **only** with specific subsets of data rather than the whole dataset.\n",
    "    \n",
    "## View Classes Found by Automap\n",
    "\n",
    "- After using the `Base.prepare()` function, confirm tha tthe Automap was able to find all of the data in the SQLite database\n",
    "    - use the `Base.classes.keys()` \n",
    "        - this will reference the classes that were mapped in each table\n",
    "        - `Base.classes` gives acces to all of the classes\n",
    "        - `keys()` references all the names of the classes.\n",
    "\n",
    "### **IMPORTANT** \n",
    "\n",
    "- The classes created here help keep the data separate, or decoupled.\n",
    "- The data is now no longer stored in tables but classes.\n",
    "- We can now copy (or reflect) our data into different classes instead of database tables\n",
    "\n",
    "## Save References to Each table \n",
    "\n",
    "- to referecne a specific clase : `Base.classes.<clase_name>`\n",
    "    - i.e. `Base.classes.station`\n",
    "- You can also store these references as variables (Note that class names are capitalized by convention):\n",
    "    - `Measurement = Base.classes.measurement`\n",
    "    - `Station = Base.classes.station`\n",
    "    \n",
    "## Creating a Session Link to the Database\n",
    "\n",
    "- use a SQLAlchemy Session to query the database\n",
    "- The session essentially allos us to query the database."
   ]
  },
  {
   "cell_type": "code",
   "execution_count": 6,
   "metadata": {},
   "outputs": [],
   "source": [
    "engine = create_engine('sqlite:///hawaii.sqlite')"
   ]
  },
  {
   "cell_type": "code",
   "execution_count": 9,
   "metadata": {},
   "outputs": [],
   "source": [
    "# reflect an existing database into a new model\n",
    "\n",
    "Base = automap_base()\n",
    "\n",
    "# reflect the tables\n",
    "\n",
    "Base.prepare(engine, reflect=True)"
   ]
  },
  {
   "cell_type": "code",
   "execution_count": 10,
   "metadata": {},
   "outputs": [
    {
     "data": {
      "text/plain": [
       "['measurement', 'station']"
      ]
     },
     "execution_count": 10,
     "metadata": {},
     "output_type": "execute_result"
    }
   ],
   "source": [
    "# We can view all of the classes that automap found\n",
    "\n",
    "Base.classes.keys()"
   ]
  },
  {
   "cell_type": "code",
   "execution_count": 11,
   "metadata": {},
   "outputs": [],
   "source": [
    "# Save references to each table\n",
    "\n",
    "Measurement = Base.classes.measurement\n",
    "\n",
    "Station = Base.classes.station \n"
   ]
  },
  {
   "cell_type": "code",
   "execution_count": 12,
   "metadata": {},
   "outputs": [],
   "source": [
    "# Create our session (link) from Python to the DB\n",
    "session = Session(engine)"
   ]
  },
  {
   "cell_type": "markdown",
   "metadata": {},
   "source": [
    "# Exploratory Climate Analysis"
   ]
  },
  {
   "cell_type": "code",
   "execution_count": null,
   "metadata": {},
   "outputs": [],
   "source": [
    "# Design a query to retrieve the last 12 months of precipitation data and plot the results. \n",
    "#Starting from the last data point in the database. \n",
    "\n",
    "# Calculate the date one year from the last date in data set.\n",
    "\n",
    "# Perform a query to retrieve the data and precipitation scores\n",
    "\n",
    "# Save the query results as a Pandas DataFrame and set the index to the date column\n",
    "\n",
    "# Sort the dataframe by date\n",
    "\n",
    "# Use Pandas Plotting with Matplotlib to plot the data\n"
   ]
  },
  {
   "cell_type": "code",
   "execution_count": null,
   "metadata": {},
   "outputs": [],
   "source": [
    "# Use Pandas to calcualte the summary statistics for the precipitation data\n"
   ]
  },
  {
   "cell_type": "code",
   "execution_count": null,
   "metadata": {},
   "outputs": [],
   "source": [
    "# How many stations are available in this dataset?\n"
   ]
  },
  {
   "cell_type": "code",
   "execution_count": null,
   "metadata": {},
   "outputs": [],
   "source": [
    "# What are the most active stations?\n",
    "# List the stations and the counts in descending order.\n"
   ]
  },
  {
   "cell_type": "code",
   "execution_count": null,
   "metadata": {},
   "outputs": [],
   "source": [
    "# Using the station id from the previous query, calculate the lowest temperature recorded, \n",
    "# highest temperature recorded, and average temperature most active station?\n"
   ]
  },
  {
   "cell_type": "code",
   "execution_count": null,
   "metadata": {},
   "outputs": [],
   "source": [
    "# Choose the station with the highest number of temperature observations.\n",
    "# Query the last 12 months of temperature observation data for this station and plot the results as a histogram\n"
   ]
  },
  {
   "cell_type": "code",
   "execution_count": null,
   "metadata": {},
   "outputs": [],
   "source": [
    "# Write a function called `calc_temps` that will accept start date and end date in the format '%Y-%m-%d' \n",
    "# and return the minimum, average, and maximum temperatures for that range of dates\n"
   ]
  },
  {
   "cell_type": "markdown",
   "metadata": {},
   "source": [
    "# Challenge"
   ]
  },
  {
   "cell_type": "code",
   "execution_count": null,
   "metadata": {},
   "outputs": [],
   "source": []
  }
 ],
 "metadata": {
  "kernelspec": {
   "display_name": "Python 3 (ipykernel)",
   "language": "python",
   "name": "python3"
  },
  "language_info": {
   "codemirror_mode": {
    "name": "ipython",
    "version": 3
   },
   "file_extension": ".py",
   "mimetype": "text/x-python",
   "name": "python",
   "nbconvert_exporter": "python",
   "pygments_lexer": "ipython3",
   "version": "3.7.13"
  }
 },
 "nbformat": 4,
 "nbformat_minor": 2
}
